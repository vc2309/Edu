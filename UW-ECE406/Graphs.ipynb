{
 "cells": [
  {
   "cell_type": "code",
   "execution_count": 18,
   "metadata": {},
   "outputs": [],
   "source": [
    "G={}\n",
    "G[\"V\"]=[1,2,3,4,5,6,7,8]\n",
    "G[\"E\"]=[(1,2),(2,3),(2,5),(3,4),(3,6),(4,7),(5,7),(7,1)]\n",
    "visited={}\n",
    "pre={}\n",
    "post={}\n",
    "global clock\n",
    "clock=0\n",
    "\n",
    "def explore(v):\n",
    "    visited[v]=True\n",
    "    print(v)\n",
    "    global clock\n",
    "    pre[v]=clock\n",
    "    clock+=1\n",
    "    for e in G[\"E\"]:\n",
    "        if e[0]==v:\n",
    "            if not visited[e[1]]:\n",
    "                explore(e[1])\n",
    "    post[v]=clock\n",
    "    clock+=1\n",
    "def dfs():\n",
    "    for v in G[\"V\"]:\n",
    "        visited[v]=False\n",
    "    for v in G[\"V\"]:\n",
    "        if not visited[v]:\n",
    "            explore(v)"
   ]
  },
  {
   "cell_type": "code",
   "execution_count": 19,
   "metadata": {},
   "outputs": [
    {
     "name": "stdout",
     "output_type": "stream",
     "text": [
      "1\n",
      "2\n",
      "3\n",
      "4\n",
      "7\n",
      "6\n",
      "5\n",
      "8\n"
     ]
    }
   ],
   "source": [
    "dfs()"
   ]
  },
  {
   "cell_type": "code",
   "execution_count": 20,
   "metadata": {},
   "outputs": [
    {
     "name": "stdout",
     "output_type": "stream",
     "text": [
      "{1: 0, 2: 1, 3: 2, 4: 3, 7: 4, 6: 7, 5: 10, 8: 14} {7: 5, 4: 6, 6: 8, 3: 9, 5: 11, 2: 12, 1: 13, 8: 15}\n"
     ]
    }
   ],
   "source": [
    "print(pre,post)"
   ]
  },
  {
   "cell_type": "code",
   "execution_count": null,
   "metadata": {
    "collapsed": true
   },
   "outputs": [],
   "source": []
  }
 ],
 "metadata": {
  "kernelspec": {
   "display_name": "Python 3",
   "language": "python",
   "name": "python3"
  },
  "language_info": {
   "codemirror_mode": {
    "name": "ipython",
    "version": 3
   },
   "file_extension": ".py",
   "mimetype": "text/x-python",
   "name": "python",
   "nbconvert_exporter": "python",
   "pygments_lexer": "ipython3",
   "version": "3.6.1"
  }
 },
 "nbformat": 4,
 "nbformat_minor": 2
}
